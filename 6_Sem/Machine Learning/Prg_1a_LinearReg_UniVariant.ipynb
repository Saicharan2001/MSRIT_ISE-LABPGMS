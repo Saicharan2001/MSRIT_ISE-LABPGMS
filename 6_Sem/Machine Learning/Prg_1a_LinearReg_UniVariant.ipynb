{
 "cells": [
  {
   "cell_type": "markdown",
   "metadata": {
    "id": "5ukSaGfGZ8F_"
   },
   "source": [
    "# **Supervised Learning Algorithms - Linear Regression:** \n",
    "Consider ***any*** dataset from UCI repository. \n",
    "\n",
    "Create a **Simple Linear Regression model(Univariant)** using the training data set. \n",
    "\n",
    "Predict the scores on the test data and output RMSE. \n",
    "\n",
    "Include appropriate code snippets to visualize the model. \n",
    "\n",
    "Interpret the result.\n",
    "\n",
    "Write the Inference. "
   ]
  },
  {
   "cell_type": "markdown",
   "metadata": {
    "id": "2uVnQvBNPg-D"
   },
   "source": [
    "In this Program the data set used is ***'Advertising.csv'***\n",
    "It shows the money spent on **TV**, **Radio** and **Newspaper** Ads and the ***Sales*** Income generated. \n",
    "\n",
    "The Dataset is 200 rows and 5 columns. (TV, Radio,Newspaper and Sales). It has a Sl# column which is unnames. "
   ]
  },
  {
   "cell_type": "markdown",
   "metadata": {
    "id": "_Eg0C0rpbbMZ"
   },
   "source": [
    "# **Loading the Dataset**\n",
    "\n",
    "**a)** If Local \n",
    "\n",
    "**b)** If Remote (here Google Drive) "
   ]
  },
  {
   "cell_type": "code",
   "execution_count": 17,
   "metadata": {
    "colab": {
     "base_uri": "https://localhost:8080/",
     "height": 206
    },
    "id": "mgfTpt12Fstl",
    "outputId": "a26d5c30-8bdc-4d12-8482-dd464d77ac0b"
   },
   "outputs": [
    {
     "data": {
      "text/html": [
       "<div>\n",
       "<style scoped>\n",
       "    .dataframe tbody tr th:only-of-type {\n",
       "        vertical-align: middle;\n",
       "    }\n",
       "\n",
       "    .dataframe tbody tr th {\n",
       "        vertical-align: top;\n",
       "    }\n",
       "\n",
       "    .dataframe thead th {\n",
       "        text-align: right;\n",
       "    }\n",
       "</style>\n",
       "<table border=\"1\" class=\"dataframe\">\n",
       "  <thead>\n",
       "    <tr style=\"text-align: right;\">\n",
       "      <th></th>\n",
       "      <th>Unnamed: 0</th>\n",
       "      <th>TV</th>\n",
       "      <th>radio</th>\n",
       "      <th>newspaper</th>\n",
       "      <th>sales</th>\n",
       "    </tr>\n",
       "  </thead>\n",
       "  <tbody>\n",
       "    <tr>\n",
       "      <th>0</th>\n",
       "      <td>1</td>\n",
       "      <td>230.1</td>\n",
       "      <td>37.8</td>\n",
       "      <td>69.2</td>\n",
       "      <td>22.1</td>\n",
       "    </tr>\n",
       "    <tr>\n",
       "      <th>1</th>\n",
       "      <td>2</td>\n",
       "      <td>44.5</td>\n",
       "      <td>39.3</td>\n",
       "      <td>45.1</td>\n",
       "      <td>10.4</td>\n",
       "    </tr>\n",
       "    <tr>\n",
       "      <th>2</th>\n",
       "      <td>3</td>\n",
       "      <td>17.2</td>\n",
       "      <td>45.9</td>\n",
       "      <td>69.3</td>\n",
       "      <td>9.3</td>\n",
       "    </tr>\n",
       "    <tr>\n",
       "      <th>3</th>\n",
       "      <td>4</td>\n",
       "      <td>151.5</td>\n",
       "      <td>41.3</td>\n",
       "      <td>58.5</td>\n",
       "      <td>18.5</td>\n",
       "    </tr>\n",
       "    <tr>\n",
       "      <th>4</th>\n",
       "      <td>5</td>\n",
       "      <td>180.8</td>\n",
       "      <td>10.8</td>\n",
       "      <td>58.4</td>\n",
       "      <td>12.9</td>\n",
       "    </tr>\n",
       "  </tbody>\n",
       "</table>\n",
       "</div>"
      ],
      "text/plain": [
       "   Unnamed: 0     TV  radio  newspaper  sales\n",
       "0           1  230.1   37.8       69.2   22.1\n",
       "1           2   44.5   39.3       45.1   10.4\n",
       "2           3   17.2   45.9       69.3    9.3\n",
       "3           4  151.5   41.3       58.5   18.5\n",
       "4           5  180.8   10.8       58.4   12.9"
      ]
     },
     "execution_count": 17,
     "metadata": {},
     "output_type": "execute_result"
    }
   ],
   "source": [
    "import pandas as pd\n",
    "import numpy as np\n",
    "data = pd.read_csv(\"Advertising.csv\")\n",
    "data.head()\n"
   ]
  },
  {
   "cell_type": "code",
   "execution_count": 18,
   "metadata": {
    "colab": {
     "base_uri": "https://localhost:8080/"
    },
    "id": "yip1o8FsaJxx",
    "outputId": "f1a25b1f-900e-490d-8d2d-3364627f57bc"
   },
   "outputs": [
    {
     "data": {
      "text/plain": [
       "Index(['Unnamed: 0', 'TV', 'radio', 'newspaper', 'sales'], dtype='object')"
      ]
     },
     "execution_count": 18,
     "metadata": {},
     "output_type": "execute_result"
    }
   ],
   "source": [
    "#Getting the Column Labels.\n",
    "data.columns"
   ]
  },
  {
   "cell_type": "code",
   "execution_count": 19,
   "metadata": {
    "colab": {
     "base_uri": "https://localhost:8080/",
     "height": 423
    },
    "id": "hyNHnoKjaPTO",
    "outputId": "48aa1662-48c3-45b2-abab-9250ea25777f"
   },
   "outputs": [
    {
     "data": {
      "text/html": [
       "<div>\n",
       "<style scoped>\n",
       "    .dataframe tbody tr th:only-of-type {\n",
       "        vertical-align: middle;\n",
       "    }\n",
       "\n",
       "    .dataframe tbody tr th {\n",
       "        vertical-align: top;\n",
       "    }\n",
       "\n",
       "    .dataframe thead th {\n",
       "        text-align: right;\n",
       "    }\n",
       "</style>\n",
       "<table border=\"1\" class=\"dataframe\">\n",
       "  <thead>\n",
       "    <tr style=\"text-align: right;\">\n",
       "      <th></th>\n",
       "      <th>TV</th>\n",
       "      <th>radio</th>\n",
       "      <th>newspaper</th>\n",
       "      <th>sales</th>\n",
       "    </tr>\n",
       "  </thead>\n",
       "  <tbody>\n",
       "    <tr>\n",
       "      <th>0</th>\n",
       "      <td>230.1</td>\n",
       "      <td>37.8</td>\n",
       "      <td>69.2</td>\n",
       "      <td>22.1</td>\n",
       "    </tr>\n",
       "    <tr>\n",
       "      <th>1</th>\n",
       "      <td>44.5</td>\n",
       "      <td>39.3</td>\n",
       "      <td>45.1</td>\n",
       "      <td>10.4</td>\n",
       "    </tr>\n",
       "    <tr>\n",
       "      <th>2</th>\n",
       "      <td>17.2</td>\n",
       "      <td>45.9</td>\n",
       "      <td>69.3</td>\n",
       "      <td>9.3</td>\n",
       "    </tr>\n",
       "    <tr>\n",
       "      <th>3</th>\n",
       "      <td>151.5</td>\n",
       "      <td>41.3</td>\n",
       "      <td>58.5</td>\n",
       "      <td>18.5</td>\n",
       "    </tr>\n",
       "    <tr>\n",
       "      <th>4</th>\n",
       "      <td>180.8</td>\n",
       "      <td>10.8</td>\n",
       "      <td>58.4</td>\n",
       "      <td>12.9</td>\n",
       "    </tr>\n",
       "    <tr>\n",
       "      <th>...</th>\n",
       "      <td>...</td>\n",
       "      <td>...</td>\n",
       "      <td>...</td>\n",
       "      <td>...</td>\n",
       "    </tr>\n",
       "    <tr>\n",
       "      <th>195</th>\n",
       "      <td>38.2</td>\n",
       "      <td>3.7</td>\n",
       "      <td>13.8</td>\n",
       "      <td>7.6</td>\n",
       "    </tr>\n",
       "    <tr>\n",
       "      <th>196</th>\n",
       "      <td>94.2</td>\n",
       "      <td>4.9</td>\n",
       "      <td>8.1</td>\n",
       "      <td>9.7</td>\n",
       "    </tr>\n",
       "    <tr>\n",
       "      <th>197</th>\n",
       "      <td>177.0</td>\n",
       "      <td>9.3</td>\n",
       "      <td>6.4</td>\n",
       "      <td>12.8</td>\n",
       "    </tr>\n",
       "    <tr>\n",
       "      <th>198</th>\n",
       "      <td>283.6</td>\n",
       "      <td>42.0</td>\n",
       "      <td>66.2</td>\n",
       "      <td>25.5</td>\n",
       "    </tr>\n",
       "    <tr>\n",
       "      <th>199</th>\n",
       "      <td>232.1</td>\n",
       "      <td>8.6</td>\n",
       "      <td>8.7</td>\n",
       "      <td>13.4</td>\n",
       "    </tr>\n",
       "  </tbody>\n",
       "</table>\n",
       "<p>200 rows × 4 columns</p>\n",
       "</div>"
      ],
      "text/plain": [
       "        TV  radio  newspaper  sales\n",
       "0    230.1   37.8       69.2   22.1\n",
       "1     44.5   39.3       45.1   10.4\n",
       "2     17.2   45.9       69.3    9.3\n",
       "3    151.5   41.3       58.5   18.5\n",
       "4    180.8   10.8       58.4   12.9\n",
       "..     ...    ...        ...    ...\n",
       "195   38.2    3.7       13.8    7.6\n",
       "196   94.2    4.9        8.1    9.7\n",
       "197  177.0    9.3        6.4   12.8\n",
       "198  283.6   42.0       66.2   25.5\n",
       "199  232.1    8.6        8.7   13.4\n",
       "\n",
       "[200 rows x 4 columns]"
      ]
     },
     "execution_count": 19,
     "metadata": {},
     "output_type": "execute_result"
    }
   ],
   "source": [
    "#Dropping the first Sl# column which is unnamed\n",
    "data.drop(['Unnamed: 0'], axis=1)"
   ]
  },
  {
   "cell_type": "markdown",
   "metadata": {
    "id": "bT-eSc-bZYzN"
   },
   "source": [
    "# **Plotting the raw data as. three scatter plots in a grid**"
   ]
  },
  {
   "cell_type": "code",
   "execution_count": 20,
   "metadata": {
    "colab": {
     "base_uri": "https://localhost:8080/",
     "height": 606
    },
    "id": "5H4CI4OBagh0",
    "outputId": "c19ccd4d-cc96-4464-e698-195fda39c9ae"
   },
   "outputs": [
    {
     "data": {
      "image/png": "[encoded data removed]",
      "text/plain": [
       "<Figure size 1080x720 with 3 Axes>"
      ]
     },
     "metadata": {
      "needs_background": "light"
     },
     "output_type": "display_data"
    }
   ],
   "source": [
    "import matplotlib.pyplot as plt\n",
    "myplt=plt.figure(figsize=(15,10))\n",
    "ax1 = myplt.add_subplot(2,2,1)\n",
    "ax1=plt.scatter(\n",
    " data['TV'],\n",
    " data['sales'],\n",
    " c='green' #change the color and see output \n",
    ")\n",
    "plt.xlabel(\"Money spent on TV ads ($)\")\n",
    "plt.ylabel(\"Sales ($)\")\n",
    "#plt.show()\n",
    "\n",
    "#myplt.figure(figsize=(8,4))\n",
    "ax2 = myplt.add_subplot(2,2,2)\n",
    "ax2=plt.scatter(\n",
    " data['radio'],\n",
    " data['sales'],\n",
    " c='brown' #change the color and see output \n",
    ")\n",
    "plt.xlabel(\"Money spent on Radio ads ($)\")\n",
    "plt.ylabel(\"Sales ($)\")\n",
    "#plt.show()\n",
    "\n",
    "\n",
    "#myplt.figure(figsize=(8,4))\n",
    "ax3 = myplt.add_subplot(2,2,3)\n",
    "ax3=plt.scatter(\n",
    " data['newspaper'],\n",
    " data['sales'],\n",
    " c='orange' #change the color and see output \n",
    ")\n",
    "plt.xlabel(\"Money spent on Newspaper ads ($)\")\n",
    "plt.ylabel(\"Sales ($)\")\n",
    "plt.show()\n"
   ]
  },
  {
   "cell_type": "markdown",
   "metadata": {
    "id": "-k5poT0RbIWM"
   },
   "source": [
    "# **Applying Linear Regression. on TV Ads versus Sales**\n",
    "**1)** Splitting the data. into train & test using sklearn library train_test_split\n",
    "\n",
    "**2)** Finding the Best Fit Line for the data using sklearn inbuilt Linear Regression Functionn"
   ]
  },
  {
   "cell_type": "code",
   "execution_count": 21,
   "metadata": {
    "colab": {
     "base_uri": "https://localhost:8080/"
    },
    "id": "m3BJ9iiibI5F",
    "outputId": "125020ee-d51f-45a7-a17e-25e1cf7dbc9c"
   },
   "outputs": [
    {
     "data": {
      "text/plain": [
       "LinearRegression()"
      ]
     },
     "execution_count": 21,
     "metadata": {},
     "output_type": "execute_result"
    }
   ],
   "source": [
    "from sklearn.linear_model import LinearRegression\n",
    "from sklearn.metrics import mean_squared_error,r2_score\n",
    "from sklearn.model_selection import train_test_split\n",
    "\n",
    "X = data['TV'].values.reshape(-1,1) #Unsure of number of rows of TV data. But its one column \n",
    "y = data['sales'].values.reshape(-1,1) #Unsure of number of rows of Sales data. But its one column\n",
    "x_train, x_test, y_train, y_test = train_test_split(X,y,test_size = 0.3) #Using sklearn library 70% Train and 30% Test \n",
    "reg = LinearRegression() #Using sklearn library \n",
    "reg.fit(x_train, y_train) #Fit the best fit regression line "
   ]
  },
  {
   "cell_type": "markdown",
   "metadata": {
    "id": "NR4BTXXec6Qs"
   },
   "source": [
    "# **Getting the equation for the Best Fit Line**\n",
    "\n",
    "Finding the Slope(m) and Intercept (c)\n",
    "\n",
    "Creating the Mathematical Equation for the Nest Fit Line "
   ]
  },
  {
   "cell_type": "code",
   "execution_count": 22,
   "metadata": {
    "colab": {
     "base_uri": "https://localhost:8080/"
    },
    "id": "qsJSYlZkayzN",
    "outputId": "c823d6de-e588-4b8f-8c80-f9d4eca91739"
   },
   "outputs": [
    {
     "name": "stdout",
     "output_type": "stream",
     "text": [
      "Slope(m):  0.04762859291857127\n",
      "Intercept(c):  6.945475353301095\n",
      "The linear model of TV versus Sales is: Y = 6.95 + 0.048X\n"
     ]
    }
   ],
   "source": [
    "print(\"Slope(m): \",reg.coef_[0][0])\n",
    "print(\"Intercept(c): \",reg.intercept_[0])\n",
    "print(\"The linear model of TV versus Sales is: Y = {:.3} + {:.2}X\".format(reg.intercept_[0], reg.coef_[0][0]))\n",
    "#Y = {:.3} + {:.2}X is done to truncate the decimal points. hange this value and see the output. \n",
    "\n"
   ]
  },
  {
   "cell_type": "markdown",
   "metadata": {
    "id": "ytdh6o-WeFDV"
   },
   "source": [
    "# **Plot the Regression Line seperately Sales versus. TV Ads Money**\n",
    "\n",
    "\n",
    "**Note**: Its plotted seperately for each feature "
   ]
  },
  {
   "cell_type": "code",
   "execution_count": null,
   "metadata": {
    "colab": {
     "base_uri": "https://localhost:8080/",
     "height": 497
    },
    "id": "iq3BqShva9V8",
    "outputId": "f03c64d3-c44b-41ad-975d-74fd74b05909"
   },
   "outputs": [
    {
     "data": {
      "image/png": "[encoded data removed]",
      "text/plain": [
       "<Figure size 1152x576 with 1 Axes>"
      ]
     },
     "metadata": {
      "needs_background": "light"
     },
     "output_type": "display_data"
    }
   ],
   "source": [
    "predictions = reg.predict(x_test)\n",
    "plt.figure(figsize=(16, 8))\n",
    "plt.scatter(\n",
    " x_test,\n",
    " y_test,\n",
    " c='green' #change the color and see output\n",
    ")\n",
    "plt.plot(\n",
    " x_test,\n",
    " predictions,\n",
    " c='blue',\n",
    " linewidth=2\n",
    ")\n",
    "plt.xlabel(\"Money spent on TV ads ($)\")\n",
    "plt.ylabel(\"Sales ($)\")\n",
    "plt.show()"
   ]
  },
  {
   "cell_type": "markdown",
   "metadata": {
    "id": "Mvhb5NyQeYz5"
   },
   "source": [
    "# **Calculate the RMSE for the feature TV Ads Money versus Sales**"
   ]
  },
  {
   "cell_type": "code",
   "execution_count": null,
   "metadata": {
    "colab": {
     "base_uri": "https://localhost:8080/"
    },
    "id": "eGkcRckFbC1Z",
    "outputId": "11b40c89-d66b-4b88-e40c-04033dbaec7f"
   },
   "outputs": [
    {
     "name": "stdout",
     "output_type": "stream",
     "text": [
      "Root Mean Squared Error =  2.995254376856359\n"
     ]
    }
   ],
   "source": [
    "rmse = np.sqrt(mean_squared_error(y_test,predictions))\n",
    "print(\"Root Mean Squared Error = \",rmse)"
   ]
  },
  {
   "cell_type": "markdown",
   "metadata": {
    "id": "oBVWuPm2fWd-"
   },
   "source": [
    "# **Applying Linear Regression. on radio Ads versus Sales**\n",
    "**1)** Splitting the data. into train & test using sklearn library train_test_split\n",
    "\n",
    "**2)** Finding the Best Fit Line for the data using sklearn inbuilt Linear Regression Function\n",
    "\n",
    "**3)** Getting the mathematical equation with value of slope and intercept "
   ]
  },
  {
   "cell_type": "code",
   "execution_count": null,
   "metadata": {
    "colab": {
     "base_uri": "https://localhost:8080/"
    },
    "id": "0cr-GqZ8k0VZ",
    "outputId": "32c3e6d3-1cd5-46da-9f40-e0afe007fb36"
   },
   "outputs": [
    {
     "name": "stdout",
     "output_type": "stream",
     "text": [
      "Slope(m):  0.2006910409833948\n",
      "Intercept(c):  9.455959951574002\n",
      "The linear model for Radio versus Sales is: Y = 9.46 + 0.2X\n"
     ]
    }
   ],
   "source": [
    "X = data['radio'].values.reshape(-1,1) #Unsure of number of rows of TV data. But its one column \n",
    "y = data['sales'].values.reshape(-1,1) #Unsure of number of rows of Sales data. But its one column\n",
    "x_train, x_test, y_train, y_test = train_test_split(X,y,test_size = 0.3) #Using sklearn library \n",
    "reg = LinearRegression() #Using sklearn library \n",
    "reg.fit(x_train, y_train) #Fit the best fit regression line \n",
    "print(\"Slope(m): \",reg.coef_[0][0])\n",
    "print(\"Intercept(c): \",reg.intercept_[0])\n",
    "print(\"The linear model for Radio versus Sales is: Y = {:.3} + {:.2}X\".format(reg.intercept_[0], reg.coef_[0][0]))"
   ]
  },
  {
   "cell_type": "markdown",
   "metadata": {
    "id": "JDajthb5fYT3"
   },
   "source": [
    "# **Plotting the Regression Line Radio Ads versus Sales**"
   ]
  },
  {
   "cell_type": "code",
   "execution_count": null,
   "metadata": {
    "colab": {
     "base_uri": "https://localhost:8080/",
     "height": 497
    },
    "id": "j4ELYPpOlFGu",
    "outputId": "75db1a3c-289a-4e7d-b528-c0e56f83b360"
   },
   "outputs": [
    {
     "data": {
      "image/png": "[encoded data removed]",
      "text/plain": [
       "<Figure size 1152x576 with 1 Axes>"
      ]
     },
     "metadata": {
      "needs_background": "light"
     },
     "output_type": "display_data"
    }
   ],
   "source": [
    "predictions = reg.predict(x_test)\n",
    "plt.figure(figsize=(16, 8))\n",
    "plt.scatter(\n",
    " x_test,\n",
    " y_test,\n",
    " c='brown' #change the color and see output\n",
    ")\n",
    "plt.plot(\n",
    " x_test,\n",
    " predictions,\n",
    " c='blue',\n",
    " linewidth=2\n",
    ")\n",
    "plt.xlabel(\"Money spent on Radio ads ($)\")\n",
    "plt.ylabel(\"Sales ($)\")\n",
    "plt.show()"
   ]
  },
  {
   "cell_type": "markdown",
   "metadata": {
    "id": "cCIc8WxDfaJ5"
   },
   "source": [
    "# **Calculate the RMSE for the feature Radio Ads Money versus Sales**"
   ]
  },
  {
   "cell_type": "code",
   "execution_count": null,
   "metadata": {
    "colab": {
     "base_uri": "https://localhost:8080/"
    },
    "id": "_xfOEfs7ldZv",
    "outputId": "b8a07906-98a5-41b4-d337-d907a0769dff"
   },
   "outputs": [
    {
     "name": "stdout",
     "output_type": "stream",
     "text": [
      "Root Mean Squared Error =  4.085359289931447\n"
     ]
    }
   ],
   "source": [
    "rmse = np.sqrt(mean_squared_error(y_test,predictions))\n",
    "print(\"Root Mean Squared Error = \",rmse)"
   ]
  },
  {
   "cell_type": "markdown",
   "metadata": {
    "id": "L7m2R-Ddfctz"
   },
   "source": [
    "# **Applying Linear Regression. on Newspaper Ads versus Sales**\n",
    "**1)** Splitting the data. into train & test using sklearn library train_test_split\n",
    "\n",
    "**2)** Finding the Best Fit Line for the data using sklearn inbuilt Linear Regression Function\n",
    "\n",
    "**3)** Getting the mathematical equation with value of slope and intercept "
   ]
  },
  {
   "cell_type": "code",
   "execution_count": null,
   "metadata": {
    "colab": {
     "base_uri": "https://localhost:8080/"
    },
    "id": "F-oc7qa1ljzY",
    "outputId": "6798ddc9-6ea1-4ba8-a414-bbdd96dc3759"
   },
   "outputs": [
    {
     "name": "stdout",
     "output_type": "stream",
     "text": [
      "Slope(m):  0.03551769775391535\n",
      "Intercept(c):  12.750632892295343\n",
      "The linear model for Newspaper vs Sales is: Y = 12.8 + 0.036X\n"
     ]
    }
   ],
   "source": [
    "X = data['newspaper'].values.reshape(-1,1) #Unsure of number of rows of TV data. But its one column \n",
    "y = data['sales'].values.reshape(-1,1) #Unsure of number of rows of Sales data. But its one column\n",
    "x_train, x_test, y_train, y_test = train_test_split(X,y,test_size = 0.3) #Using sklearn library \n",
    "reg = LinearRegression() #Using sklearn library \n",
    "reg.fit(x_train, y_train) #Fit the best fit regression line \n",
    "print(\"Slope(m): \",reg.coef_[0][0])\n",
    "print(\"Intercept(c): \",reg.intercept_[0])\n",
    "print(\"The linear model for Newspaper vs Sales is: Y = {:.3} + {:.2}X\".format(reg.intercept_[0], reg.coef_[0][0]))"
   ]
  },
  {
   "cell_type": "markdown",
   "metadata": {
    "id": "x5-WFAWsfd44"
   },
   "source": [
    "# **Plotting the Regression Line Newspaper Ads versus Sales**"
   ]
  },
  {
   "cell_type": "code",
   "execution_count": null,
   "metadata": {
    "colab": {
     "base_uri": "https://localhost:8080/",
     "height": 497
    },
    "id": "XwCMxHyfl4Y_",
    "outputId": "bc5c793f-5e6a-4416-df69-26cefc732c4f"
   },
   "outputs": [
    {
     "data": {
      "image/png": "[encoded data removed]",
      "text/plain": [
       "<Figure size 1152x576 with 1 Axes>"
      ]
     },
     "metadata": {
      "needs_background": "light"
     },
     "output_type": "display_data"
    }
   ],
   "source": [
    "predictions = reg.predict(x_test)\n",
    "plt.figure(figsize=(16, 8))\n",
    "plt.scatter(\n",
    " x_test,\n",
    " y_test,\n",
    " c='magenta' #change the color and see output\n",
    ")\n",
    "plt.plot(\n",
    " x_test,\n",
    " predictions,\n",
    " c='blue',\n",
    " linewidth=2\n",
    ")\n",
    "plt.xlabel(\"Money spent on Newspaper ads ($)\")\n",
    "plt.ylabel(\"Sales ($)\")\n",
    "plt.show()"
   ]
  },
  {
   "cell_type": "markdown",
   "metadata": {
    "id": "7zCoR8dUffdl"
   },
   "source": [
    "# **Calculate the RMSE for the feature Newspaper Ads Money versus Sales**"
   ]
  },
  {
   "cell_type": "code",
   "execution_count": null,
   "metadata": {
    "colab": {
     "base_uri": "https://localhost:8080/"
    },
    "id": "yFk_FcBMmB4t",
    "outputId": "fceab236-08f3-4972-f09b-3b9e9aaffb60"
   },
   "outputs": [
    {
     "name": "stdout",
     "output_type": "stream",
     "text": [
      "Root Mean Squared Error =  5.348965712062774\n"
     ]
    }
   ],
   "source": [
    "rmse = np.sqrt(mean_squared_error(y_test,predictions))\n",
    "print(\"Root Mean Squared Error = \",rmse)"
   ]
  },
  {
   "cell_type": "markdown",
   "metadata": {
    "id": "RcH_-fF4WpsW"
   },
   "source": [
    "# **Plotting in a Grid Using Sub Plot function in Matplotlib**"
   ]
  },
  {
   "cell_type": "code",
   "execution_count": null,
   "metadata": {
    "colab": {
     "base_uri": "https://localhost:8080/",
     "height": 497
    },
    "id": "aqRAOItrWqRw",
    "outputId": "ecdd9911-33cb-4e22-c0bc-b5c8050d9d8b"
   },
   "outputs": [
    {
     "data": {
      "image/png": "[encoded data removed]",
      "text/plain": [
       "<Figure size 1152x576 with 3 Axes>"
      ]
     },
     "metadata": {
      "needs_background": "light"
     },
     "output_type": "display_data"
    }
   ],
   "source": [
    "from sklearn.linear_model import LinearRegression\n",
    "from sklearn.metrics import mean_squared_error,r2_score\n",
    "from sklearn.model_selection import train_test_split\n",
    "\n",
    "X = data['TV'].values.reshape(-1,1) #Unsure of number of rows of TV data. But its one column \n",
    "y = data['sales'].values.reshape(-1,1) #Unsure of number of rows of Sales data. But its one column\n",
    "x_train, x_test, y_train, y_test = train_test_split(X,y,test_size = 0.3) #Using sklearn library \n",
    "reg = LinearRegression() #Using sklearn library \n",
    "reg.fit(x_train, y_train) #Fit the best fit regression line \n",
    "\n",
    "predictions = reg.predict(x_test)\n",
    "myplt=plt.figure(figsize=(16, 8))\n",
    "ax1 = myplt.add_subplot(2,2,1)\n",
    "ax1=plt.scatter(\n",
    " x_test,\n",
    " y_test,\n",
    " c='green' #change the color and see output\n",
    ")\n",
    "plt.plot(\n",
    " x_test,\n",
    " predictions,\n",
    " c='blue',\n",
    " linewidth=2\n",
    ")\n",
    "plt.xlabel(\"Money spent on TV ads ($)\")\n",
    "plt.ylabel(\"Sales ($)\")\n",
    "\n",
    "X = data['radio'].values.reshape(-1,1) #Unsure of number of rows of TV data. But its one column \n",
    "y = data['sales'].values.reshape(-1,1) #Unsure of number of rows of Sales data. But its one column\n",
    "x_train, x_test, y_train, y_test = train_test_split(X,y,test_size = 0.3) #Using sklearn library \n",
    "reg = LinearRegression() #Using sklearn library \n",
    "reg.fit(x_train, y_train) #Fit the best fit regression line \n",
    "\n",
    "predictions = reg.predict(x_test)\n",
    "ax2 = myplt.add_subplot(2,2,2)\n",
    "ax2=plt.scatter(\n",
    " x_test,\n",
    " y_test,\n",
    " c='brown' #change the color and see output\n",
    ")\n",
    "plt.plot(\n",
    " x_test,\n",
    " predictions,\n",
    " c='blue',\n",
    " linewidth=2\n",
    ")\n",
    "plt.xlabel(\"Money spent on Radio ads ($)\")\n",
    "plt.ylabel(\"Sales ($)\")\n",
    "\n",
    "X = data['newspaper'].values.reshape(-1,1) #Unsure of number of rows of TV data. But its one column \n",
    "y = data['sales'].values.reshape(-1,1) #Unsure of number of rows of Sales data. But its one column\n",
    "x_train, x_test, y_train, y_test = train_test_split(X,y,test_size = 0.3) #Using sklearn library \n",
    "reg = LinearRegression() #Using sklearn library \n",
    "reg.fit(x_train, y_train) #Fit the best fit regression line \n",
    "\n",
    "predictions = reg.predict(x_test)\n",
    "ax3 = myplt.add_subplot(2,2,3)\n",
    "ax3=plt.scatter(\n",
    " x_test,\n",
    " y_test,\n",
    " c='magenta' #change the color and see output\n",
    ")\n",
    "plt.plot(\n",
    " x_test,\n",
    " predictions,\n",
    " c='blue',\n",
    " linewidth=2\n",
    ")\n",
    "plt.xlabel(\"Money spent on Newspaper ads ($)\")\n",
    "plt.ylabel(\"Sales ($)\")\n",
    "plt.show()"
   ]
  },
  {
   "cell_type": "markdown",
   "metadata": {
    "id": "Da5g3kQ6iGmg"
   },
   "source": [
    "Newspaper RMSE = 5.35199409368765\n",
    "\n",
    "Radio RMSE = 4.027964590815203\n",
    "\n",
    "TV RMSE = 3.141392475118249"
   ]
  },
  {
   "cell_type": "markdown",
   "metadata": {
    "id": "AJRagQTcj1zp"
   },
   "source": [
    "# **Inference**\n",
    "\n",
    "The RMSE Value for TV is the least. \n",
    "This means that the money spent on TV. Ads has the highest possiblity of a reliable sales income prediction. "
   ]
  },
  {
   "cell_type": "markdown",
   "metadata": {
    "id": "N2ltoBH3g_Hu"
   },
   "source": [
    "**Note**: There is another measure called R-Squared. R-Squared only works as intended in a simple linear regression model with one independant variable. \n",
    "\n",
    "If there are multiuple independant attributes, the effect of each has to be calculated seperately as R-Squared Values "
   ]
  }
 ],
 "metadata": {
  "colab": {
   "collapsed_sections": [],
   "name": "Prg#1a_LinearReg_UniVariant.ipynb",
   "provenance": []
  },
  "kernelspec": {
   "display_name": "Python 3",
   "language": "python",
   "name": "python3"
  },
  "language_info": {
   "codemirror_mode": {
    "name": "ipython",
    "version": 3
   },
   "file_extension": ".py",
   "mimetype": "text/x-python",
   "name": "python",
   "nbconvert_exporter": "python",
   "pygments_lexer": "ipython3",
   "version": "3.8.8"
  }
 },
 "nbformat": 4,
 "nbformat_minor": 1
}
