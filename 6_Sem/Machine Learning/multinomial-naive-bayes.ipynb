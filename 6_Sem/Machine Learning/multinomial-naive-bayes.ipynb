{
 "cells": [
  {
   "cell_type": "code",
   "execution_count": 1,
   "metadata": {
    "_cell_guid": "b1076dfc-b9ad-4769-8c92-a6c4dae69d19",
    "_uuid": "8f2839f25d086af736a60e9eeb907d3b93b6e0e5",
    "execution": {
     "iopub.execute_input": "2022-05-31T16:15:59.877395Z",
     "iopub.status.busy": "2022-05-31T16:15:59.877029Z",
     "iopub.status.idle": "2022-05-31T16:15:59.885409Z",
     "shell.execute_reply": "2022-05-31T16:15:59.884140Z",
     "shell.execute_reply.started": "2022-05-31T16:15:59.877366Z"
    }
   },
   "outputs": [],
   "source": [
    "weather=['Sunny','Sunny','Overcast','Rainy','Rainy','Rainy','Overcast','Sunny','Sunny',\n",
    "'Rainy','Sunny','Overcast','Overcast','Rainy']\n",
    "temp=[23,54,30,45,23,12,23,45,63,32,42,33,22,12]\n",
    "humidity=['High', 'High','High','High','Normal','Normal','Normal','High', 'Normal','Normal','Normal','High','Normal','High'] \n",
    "windy=['weak', 'strong', 'weak', 'weak', 'weak', 'strong', 'strong', 'weak', 'weak', 'weak', 'strong', 'strong', 'weak','strong']\n",
    "\n",
    "#3 classes for play\n",
    "play=['No','Maybe','Yes','No','Yes','Maybe','Yes','Maybe','Yes','Maybe','Yes','Yes','Yes','No']"
   ]
  },
  {
   "cell_type": "code",
   "execution_count": 7,
   "metadata": {
    "execution": {
     "iopub.execute_input": "2022-05-31T16:16:01.604737Z",
     "iopub.status.busy": "2022-05-31T16:16:01.604271Z",
     "iopub.status.idle": "2022-05-31T16:16:01.613412Z",
     "shell.execute_reply": "2022-05-31T16:16:01.612421Z",
     "shell.execute_reply.started": "2022-05-31T16:16:01.604701Z"
    }
   },
   "outputs": [
    {
     "name": "stdout",
     "output_type": "stream",
     "text": [
      "[2 2 0 1 1 1 0 2 2 1 2 0 0 1]\n",
      "[0 0 0 0 1 1 1 0 1 1 1 0 1 0]\n",
      "[1 0 1 1 1 0 0 1 1 1 0 0 1 0]\n",
      "[1 0 2 1 2 0 2 0 2 0 2 2 2 1]\n",
      "[1 0 2 1 2 0 2 0 2 0 2 2 2 1]\n",
      "((2, 23, 0, 1), (2, 54, 0, 0), (0, 30, 0, 1), (1, 45, 0, 1), (1, 23, 1, 1), (1, 12, 1, 0), (0, 23, 1, 0), (2, 45, 0, 1), (2, 63, 1, 1), (1, 32, 1, 1), (2, 42, 1, 0), (0, 33, 0, 0), (0, 22, 1, 1), (1, 12, 0, 0))\n"
     ]
    }
   ],
   "source": [
    "from sklearn import preprocessing\n",
    "label_encoder=preprocessing.LabelEncoder()\n",
    "\n",
    "weather_encoded = label_encoder.fit_transform(weather)\n",
    "humidity_encoded = label_encoder.fit_transform(humidity)\n",
    "windy_encoded = label_encoder.fit_transform(windy)\n",
    "play_encoded = label_encoder.fit_transform(play)\n",
    "label=label_encoder.fit_transform(play)\n",
    "\n",
    "print(weather_encoded)\n",
    "print(humidity_encoded)\n",
    "print(windy_encoded)\n",
    "print(play_encoded)\n",
    "\n",
    "print(label)\n",
    "\n",
    "features= tuple( zip( weather_encoded, temp , humidity_encoded, windy_encoded ))\n",
    "print(features)"
   ]
  },
  {
   "cell_type": "code",
   "execution_count": 8,
   "metadata": {
    "execution": {
     "iopub.execute_input": "2022-05-31T16:16:04.309099Z",
     "iopub.status.busy": "2022-05-31T16:16:04.308389Z",
     "iopub.status.idle": "2022-05-31T16:16:04.314948Z",
     "shell.execute_reply": "2022-05-31T16:16:04.314030Z",
     "shell.execute_reply.started": "2022-05-31T16:16:04.309062Z"
    }
   },
   "outputs": [],
   "source": [
    "from sklearn.naive_bayes import MultinomialNB\n",
    "multinb= MultinomialNB()\n",
    "model= multinb.fit(features,play_encoded)"
   ]
  },
  {
   "cell_type": "code",
   "execution_count": 9,
   "metadata": {
    "execution": {
     "iopub.execute_input": "2022-05-31T16:16:30.187355Z",
     "iopub.status.busy": "2022-05-31T16:16:30.186956Z",
     "iopub.status.idle": "2022-05-31T16:16:30.193035Z",
     "shell.execute_reply": "2022-05-31T16:16:30.192016Z",
     "shell.execute_reply.started": "2022-05-31T16:16:30.187324Z"
    }
   },
   "outputs": [
    {
     "name": "stdout",
     "output_type": "stream",
     "text": [
      "[1]\n"
     ]
    }
   ],
   "source": [
    "predicted = model.predict([[2,23,0,1]])\n",
    "print(predicted)"
   ]
  },
  {
   "cell_type": "code",
   "execution_count": 10,
   "metadata": {
    "execution": {
     "iopub.execute_input": "2022-05-31T16:17:11.455786Z",
     "iopub.status.busy": "2022-05-31T16:17:11.455373Z",
     "iopub.status.idle": "2022-05-31T16:17:11.461482Z",
     "shell.execute_reply": "2022-05-31T16:17:11.460770Z",
     "shell.execute_reply.started": "2022-05-31T16:17:11.455751Z"
    }
   },
   "outputs": [
    {
     "name": "stdout",
     "output_type": "stream",
     "text": [
      "[2]\n"
     ]
    }
   ],
   "source": [
    "predicted = model.predict([[1,12,0,0]])\n",
    "print(predicted)"
   ]
  },
  {
   "cell_type": "code",
   "execution_count": null,
   "metadata": {},
   "outputs": [],
   "source": []
  }
 ],
 "metadata": {
  "kernelspec": {
   "display_name": "Python 3",
   "language": "python",
   "name": "python3"
  },
  "language_info": {
   "codemirror_mode": {
    "name": "ipython",
    "version": 3
   },
   "file_extension": ".py",
   "mimetype": "text/x-python",
   "name": "python",
   "nbconvert_exporter": "python",
   "pygments_lexer": "ipython3",
   "version": "3.8.8"
  }
 },
 "nbformat": 4,
 "nbformat_minor": 4
}
