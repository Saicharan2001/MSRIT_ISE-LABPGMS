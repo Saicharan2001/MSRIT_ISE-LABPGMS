{
 "cells": [
  {
   "cell_type": "code",
   "execution_count": 1,
   "id": "6921b6dd",
   "metadata": {},
   "outputs": [
    {
     "name": "stdout",
     "output_type": "stream",
     "text": [
      "   satisfaction_level  last_evaluation  number_project  average_montly_hours  \\\n",
      "0                0.38             0.53               2                   157   \n",
      "1                0.80             0.86               5                   262   \n",
      "2                0.11             0.88               7                   272   \n",
      "3                0.72             0.87               5                   223   \n",
      "4                0.37             0.52               2                   159   \n",
      "\n",
      "   time_spend_company  Work_accident  left  promotion_last_5years  sales  \\\n",
      "0                   3              0     1                      0  sales   \n",
      "1                   6              0     1                      0  sales   \n",
      "2                   4              0     1                      0  sales   \n",
      "3                   5              0     1                      0  sales   \n",
      "4                   3              0     1                      0  sales   \n",
      "\n",
      "   salary  \n",
      "0     low  \n",
      "1  medium  \n",
      "2  medium  \n",
      "3     low  \n",
      "4     low  \n",
      "(14999, 10)\n"
     ]
    }
   ],
   "source": [
    "# IMPORT DATASETS\n",
    "\n",
    "import numpy as np\n",
    "import pandas as pd\n",
    "from sklearn import preprocessing\n",
    "from sklearn.metrics import confusion_matrix,accuracy_score\n",
    "from sklearn.neural_network import MLPClassifier\n",
    "from sklearn.model_selection import train_test_split\n",
    "import matplotlib.pyplot as plt\n",
    "from sklearn import metrics\n",
    "\n",
    "\n",
    "data=pd.read_csv('HR_comma_sep.csv')\n",
    "print(data.head())\n",
    "print(data.shape)"
   ]
  },
  {
   "cell_type": "code",
   "execution_count": 2,
   "id": "f96d340e",
   "metadata": {},
   "outputs": [
    {
     "name": "stdout",
     "output_type": "stream",
     "text": [
      "       Encoded Salary  Dept\n",
      "0                   1     7\n",
      "1                   2     7\n",
      "2                   2     7\n",
      "3                   1     7\n",
      "4                   1     7\n",
      "...               ...   ...\n",
      "14994               1     8\n",
      "14995               1     8\n",
      "14996               1     8\n",
      "14997               1     8\n",
      "14998               1     8\n",
      "\n",
      "[14999 rows x 2 columns]\n"
     ]
    },
    {
     "data": {
      "text/plain": [
       "array(['sales', 'accounting', 'hr', 'technical', 'support', 'management',\n",
       "       'IT', 'product_mng', 'marketing', 'RandD'], dtype=object)"
      ]
     },
     "execution_count": 2,
     "metadata": {},
     "output_type": "execute_result"
    }
   ],
   "source": [
    "# PREPROCESSING\n",
    "\n",
    "le=preprocessing.LabelEncoder()\n",
    "data['Encoded Salary']=le.fit_transform(data['salary'])\n",
    "data['Dept']=le.fit_transform(data['sales'])\n",
    "# Displaying to see the transformation \n",
    "print(data[['Encoded Salary','Dept']])\n",
    "data.sales.unique()\n",
    "# pd.unique(data[['sales', 'Dept']].values.ravel('K'))"
   ]
  },
  {
   "cell_type": "code",
   "execution_count": 4,
   "id": "044f74cf",
   "metadata": {},
   "outputs": [
    {
     "name": "stdout",
     "output_type": "stream",
     "text": [
      "       satisfaction_level  last_evaluation  number_project  \\\n",
      "6723                 0.65             0.96               5   \n",
      "6473                 0.88             0.80               3   \n",
      "4679                 0.69             0.98               3   \n",
      "862                  0.41             0.47               2   \n",
      "7286                 0.87             0.76               5   \n",
      "...                   ...              ...             ...   \n",
      "3297                 0.61             0.74               2   \n",
      "14113                0.93             0.89               3   \n",
      "5514                 0.78             0.61               3   \n",
      "9939                 0.89             0.76               2   \n",
      "14346                0.31             0.84               7   \n",
      "\n",
      "       average_montly_hours  time_spend_company  Work_accident  \\\n",
      "6723                    226                   2              1   \n",
      "6473                    166                   2              0   \n",
      "4679                    214                   2              0   \n",
      "862                     154                   3              0   \n",
      "7286                    254                   2              1   \n",
      "...                     ...                 ...            ...   \n",
      "3297                    143                   6              0   \n",
      "14113                   255                   7              1   \n",
      "5514                    193                   3              0   \n",
      "9939                    278                   2              0   \n",
      "14346                   133                   5              0   \n",
      "\n",
      "       promotion_last_5years  Dept  Encoded Salary  \n",
      "6723                       0     5               2  \n",
      "6473                       0     0               1  \n",
      "4679                       0     7               1  \n",
      "862                        0     7               1  \n",
      "7286                       0     3               1  \n",
      "...                      ...   ...             ...  \n",
      "3297                       0     7               2  \n",
      "14113                      0     7               2  \n",
      "5514                       0     7               2  \n",
      "9939                       0     7               2  \n",
      "14346                      0     9               1  \n",
      "\n",
      "[3000 rows x 9 columns]\n"
     ]
    }
   ],
   "source": [
    "x=data[['satisfaction_level', 'last_evaluation', 'number_project', 'average_montly_hours', \n",
    "        'time_spend_company', 'Work_accident', 'promotion_last_5years', 'Dept', 'Encoded Salary']]\n",
    "y=data['left']\n",
    "x_train, x_test, y_train, y_test = train_test_split(x, y, test_size=0.2, random_state=42)\n",
    "print(x_test)"
   ]
  },
  {
   "cell_type": "code",
   "execution_count": 5,
   "id": "d32ab273",
   "metadata": {},
   "outputs": [
    {
     "name": "stdout",
     "output_type": "stream",
     "text": [
      "testpred is : [1]\n",
      "Employee will leave\n"
     ]
    }
   ],
   "source": [
    "# Training the model\n",
    "\n",
    "clf=MLPClassifier(hidden_layer_sizes=(6,5),random_state=5,verbose=False,learning_rate_init=0.01)\n",
    "clf.fit(x_train,y_train)\n",
    "clf.loss_curve_\n",
    "\n",
    "testX = [[0.37,0.32,2,188,3,0,0,7,0]]  #Employee will leave\n",
    "#testX = [[0.77,0.72,2,159,3,0,0,2,2]]    #Employee will stay \n",
    "testpred=clf.predict(testX)\n",
    "print(\"testpred is :\", testpred)\n",
    "\n",
    "if testpred == 0: \n",
    "  print(\"Employee will stay\")\n",
    "else:\n",
    "  print(\"Employee will leave\")\n"
   ]
  },
  {
   "cell_type": "code",
   "execution_count": 13,
   "id": "d11ab99d",
   "metadata": {},
   "outputs": [
    {
     "name": "stdout",
     "output_type": "stream",
     "text": [
      "Accuracy Score for Train Data is 0.9455787982331861\n",
      "Accuracy Score for Test Data is 0.938\n",
      "Train Confusion Matrix is\n",
      " [[8699  435]\n",
      " [ 218 2647]]\n",
      "Train Confusion Matrix is\n",
      " [[2175  119]\n",
      " [  67  639]]\n",
      "\n",
      " Train Precision is 0.8588578844905905\n",
      "\n",
      " Test Precision is 0.8430079155672823\n",
      "\n",
      " Train Recall is 0.9239092495636998\n",
      "\n",
      " Test Recall is 0.9050991501416431\n",
      "\n",
      " For Test Data\n",
      "\n",
      "TN 2175\n",
      "\n",
      "TP 639\n",
      "\n",
      "FN 119\n",
      "\n",
      "FP 67\n",
      "\n",
      " For Test Data\n",
      "\n",
      "TN 8699\n",
      "\n",
      "TP 2647\n",
      "\n",
      "FN 435\n",
      "\n",
      "FP 218\n"
     ]
    }
   ],
   "source": [
    "# Predictions\n",
    "\n",
    "ypredtest=clf.predict(x_test)\n",
    "ypredtrain = clf.predict(x_train)\n",
    "print(\"Accuracy Score for Train Data is\",accuracy_score(y_train,ypredtrain))\n",
    "print(\"Accuracy Score for Test Data is\", accuracy_score(y_test,ypredtest))\n",
    "conftrain= confusion_matrix(y_train,ypredtrain)\n",
    "print(\"Train Confusion Matrix is\\n\", confusion_matrix(y_train,ypredtrain))\n",
    "conftest=confusion_matrix(y_test,ypredtest)\n",
    "print(\"Train Confusion Matrix is\\n\", confusion_matrix(y_test,ypredtest))\n",
    "print(\"\\n Train Precision is\", metrics.precision_score(y_train, ypredtrain))\n",
    "print(\"\\n Test Precision is\", metrics.precision_score(y_test, ypredtest))\n",
    "print(\"\\n Train Recall is\", metrics.recall_score(y_train, ypredtrain))\n",
    "print(\"\\n Test Recall is\", metrics.recall_score(y_test, ypredtest))\n",
    "TN, FN, FP, TP =metrics.confusion_matrix(list(y_test),list(ypredtest),labels=[0,1]).ravel()\n",
    "print(\"\\n For Test Data\")\n",
    "print(\"\\nTN\",TN)\n",
    "print(\"\\nTP\",TP)\n",
    "print(\"\\nFN\",FN)\n",
    "print(\"\\nFP\",FP)\n",
    "TN, FN, FP, TP =metrics.confusion_matrix(list(y_train),list(ypredtrain),labels=[0,1]).ravel()\n",
    "print(\"\\n For Test Data\")\n",
    "print(\"\\nTN\",TN)\n",
    "print(\"\\nTP\",TP)\n",
    "print(\"\\nFN\",FN)\n",
    "print(\"\\nFP\",FP)"
   ]
  },
  {
   "cell_type": "code",
   "execution_count": 12,
   "id": "c3369d3b",
   "metadata": {},
   "outputs": [
    {
     "data": {
      "text/plain": [
       "Text(0.5, 304.64445454545455, 'Predicted label')"
      ]
     },
     "execution_count": 12,
     "metadata": {},
     "output_type": "execute_result"
    },
    {
     "data": {
      "image/png": "[encoded data removed]",
      "text/plain": [
       "<Figure size 576x576 with 4 Axes>"
      ]
     },
     "metadata": {
      "needs_background": "light"
     },
     "output_type": "display_data"
    }
   ],
   "source": [
    "import itertools\n",
    "\n",
    "classes = [0, 1]\n",
    "\n",
    "# plot train  confusion matrix\n",
    "myplt=plt.figure(figsize=(8,8))\n",
    "ax1 = myplt.add_subplot(2,2,1)\n",
    "\n",
    "plt.imshow(conftrain, interpolation='nearest', cmap=plt.cm.Blues)\n",
    "plt.title(\"Train Confusion Matrix\")\n",
    "ax1=plt.colorbar()\n",
    "tick_marks = np.arange(len(classes))\n",
    "plt.xticks(tick_marks, classes)\n",
    "plt.yticks(tick_marks, classes)\n",
    "\n",
    "fmt = 'd'\n",
    "thresh = conftrain.max() / 2.\n",
    "for i, j in itertools.product(range(conftrain.shape[0]), range(conftrain.shape[1])):\n",
    "    plt.text(j, i, format(conftrain[i, j], fmt),\n",
    "             horizontalalignment=\"center\",\n",
    "             color=\"white\" if conftrain[i, j] > thresh else \"black\")\n",
    "\n",
    "plt.tight_layout()\n",
    "plt.ylabel('True label')\n",
    "plt.xlabel('Predicted label')\n",
    "\n",
    "# plot test confusion matrix\n",
    "ax2 = myplt.add_subplot(2,2,2)\n",
    "\n",
    "plt.imshow(conftest, interpolation='nearest', cmap=plt.cm.Greens)\n",
    "plt.title(\"Test Confusion Matrix\")\n",
    "ax2=plt.colorbar()\n",
    "tick_marks = np.arange(len(classes))\n",
    "plt.xticks(tick_marks, classes)\n",
    "plt.yticks(tick_marks, classes)\n",
    "\n",
    "fmt = 'd'\n",
    "thresh = conftest.max() / 2.\n",
    "for i, j in itertools.product(range(conftest.shape[0]), range(conftest.shape[1])):\n",
    "    plt.text(j, i, format(conftest[i, j], fmt),\n",
    "             horizontalalignment=\"center\",\n",
    "             color=\"white\" if conftest[i, j] > thresh else \"black\")\n",
    "\n",
    "plt.tight_layout()\n",
    "plt.ylabel('True label')\n",
    "plt.xlabel('Predicted label')"
   ]
  },
  {
   "cell_type": "code",
   "execution_count": null,
   "id": "42a245df",
   "metadata": {},
   "outputs": [],
   "source": []
  },
  {
   "cell_type": "code",
   "execution_count": null,
   "id": "d0ef2abb",
   "metadata": {},
   "outputs": [],
   "source": []
  }
 ],
 "metadata": {
  "kernelspec": {
   "display_name": "Python 3",
   "language": "python",
   "name": "python3"
  },
  "language_info": {
   "codemirror_mode": {
    "name": "ipython",
    "version": 3
   },
   "file_extension": ".py",
   "mimetype": "text/x-python",
   "name": "python",
   "nbconvert_exporter": "python",
   "pygments_lexer": "ipython3",
   "version": "3.8.8"
  }
 },
 "nbformat": 4,
 "nbformat_minor": 5
}
